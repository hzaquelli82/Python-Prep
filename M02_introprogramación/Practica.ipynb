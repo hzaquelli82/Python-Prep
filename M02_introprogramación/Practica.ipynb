{
 "cells": [
  {
   "attachments": {},
   "cell_type": "markdown",
   "metadata": {},
   "source": [
    "Este es un archivo de prueba, sin actividades =) .\n",
    "\n",
    "A partir del próximo módulo: M03_variablesydatos vas a tener actividades para realizar."
   ]
  },
  {
   "cell_type": "code",
   "execution_count": 1,
   "metadata": {},
   "outputs": [
    {
     "name": "stdout",
     "output_type": "stream",
     "text": [
      "Hola Mundo!\n",
      "20  Ya empezamos !!!!!\n",
      "19  Ya empezamos !!!!!\n",
      "18  Ya empezamos !!!!!\n",
      "17  Ya empezamos !!!!!\n",
      "16  Ya empezamos !!!!!\n",
      "15  Ya empezamos !!!!!\n",
      "14  Ya empezamos !!!!!\n",
      "13  Ya empezamos !!!!!\n",
      "12  Ya empezamos !!!!!\n",
      "11  Ya empezamos !!!!!\n",
      "10  Ya empezamos !!!!!\n",
      "9  Ya empezamos !!!!!\n",
      "8  Ya empezamos !!!!!\n",
      "7  Ya empezamos !!!!!\n",
      "6  Ya empezamos !!!!!\n",
      "5  Ya empezamos !!!!!\n",
      "4  Ya empezamos !!!!!\n",
      "3  Ya empezamos !!!!!\n",
      "2  Ya empezamos !!!!!\n",
      "1  Ya empezamos !!!!!\n"
     ]
    }
   ],
   "source": [
    "print('Hola Mundo!')\n",
    "a = 20\n",
    "while a > 0:\n",
    "    \n",
    "    print(a, \" Ya empezamos !!!!!\")\n",
    "    a -= 1"
   ]
  }
 ],
 "metadata": {
  "kernelspec": {
   "display_name": "Python 3",
   "language": "python",
   "name": "python3"
  },
  "language_info": {
   "codemirror_mode": {
    "name": "ipython",
    "version": 3
   },
   "file_extension": ".py",
   "mimetype": "text/x-python",
   "name": "python",
   "nbconvert_exporter": "python",
   "pygments_lexer": "ipython3",
   "version": "3.11.5"
  },
  "orig_nbformat": 4
 },
 "nbformat": 4,
 "nbformat_minor": 2
}
