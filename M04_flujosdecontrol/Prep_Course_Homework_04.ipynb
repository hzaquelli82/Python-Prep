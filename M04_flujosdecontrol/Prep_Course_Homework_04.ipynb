{
 "cells": [
  {
   "attachments": {},
   "cell_type": "markdown",
   "metadata": {},
   "source": [
    "## Flujos de Control"
   ]
  },
  {
   "attachments": {},
   "cell_type": "markdown",
   "metadata": {},
   "source": [
    "1) Crear una variable que contenga un elemento del conjunto de números enteros y luego imprimir por pantalla si es mayor o menor a cero"
   ]
  },
  {
   "cell_type": "code",
   "execution_count": 23,
   "metadata": {},
   "outputs": [
    {
     "name": "stdout",
     "output_type": "stream",
     "text": [
      "Es mayor que 0\n"
     ]
    }
   ],
   "source": [
    "num = 7\n",
    "if num > 0:\n",
    "    print('Es mayor que 0')\n",
    "elif num < 0:\n",
    "    print('es menor que 0')\n",
    "else:\n",
    "    print('Es 0')"
   ]
  },
  {
   "attachments": {},
   "cell_type": "markdown",
   "metadata": {},
   "source": [
    "2) Crear dos variables y un condicional que informe si son del mismo tipo de dato"
   ]
  },
  {
   "cell_type": "code",
   "execution_count": 24,
   "metadata": {},
   "outputs": [
    {
     "name": "stdout",
     "output_type": "stream",
     "text": [
      "son variables diferentes\n",
      "la variable 1 es de tipo  <class 'str'>\n",
      "la variable 2 es de tipo  <class 'int'>\n"
     ]
    }
   ],
   "source": [
    "var1='palabra'\n",
    "var2=7\n",
    "typ1=type(var1)\n",
    "typ2=type(var2)\n",
    "if typ1 == typ2:\n",
    "    print('son la misma variable',typ1)\n",
    "else:\n",
    "    print('son variables diferentes')\n",
    "    print('la variable 1 es de tipo ',typ1)\n",
    "    print('la variable 2 es de tipo ',typ2)"
   ]
  },
  {
   "attachments": {},
   "cell_type": "markdown",
   "metadata": {},
   "source": [
    "3) Para los valores enteros del 1 al 20, imprimir por pantalla si es par o impar"
   ]
  },
  {
   "cell_type": "code",
   "execution_count": 25,
   "metadata": {},
   "outputs": [
    {
     "name": "stdout",
     "output_type": "stream",
     "text": [
      "1 es impar\n",
      "2 es par\n",
      "3 es impar\n",
      "4 es par\n",
      "5 es impar\n",
      "6 es par\n",
      "7 es impar\n",
      "8 es par\n",
      "9 es impar\n",
      "10 es par\n",
      "11 es impar\n",
      "12 es par\n",
      "13 es impar\n",
      "14 es par\n",
      "15 es impar\n",
      "16 es par\n",
      "17 es impar\n",
      "18 es par\n",
      "19 es impar\n"
     ]
    }
   ],
   "source": [
    "for n in range(1,20):\n",
    "    if n%2 == 0:\n",
    "        print(n, 'es par')\n",
    "    else:\n",
    "        print(n, 'es impar')"
   ]
  },
  {
   "attachments": {},
   "cell_type": "markdown",
   "metadata": {},
   "source": [
    "4) En un ciclo for mostrar para los valores entre 0 y 5 el resultado de elevarlo a la potencia igual a 3"
   ]
  },
  {
   "cell_type": "code",
   "execution_count": 26,
   "metadata": {},
   "outputs": [
    {
     "name": "stdout",
     "output_type": "stream",
     "text": [
      "El resultado de elevar 0 al cubo es 0\n",
      "El resultado de elevar 1 al cubo es 1\n",
      "El resultado de elevar 2 al cubo es 8\n",
      "El resultado de elevar 3 al cubo es 27\n",
      "El resultado de elevar 4 al cubo es 64\n",
      "El resultado de elevar 5 al cubo es 125\n"
     ]
    }
   ],
   "source": [
    "for n in range(0,6):\n",
    "    m = n**3\n",
    "    print('El resultado de elevar', str(n),'al cubo es', str(m))"
   ]
  },
  {
   "attachments": {},
   "cell_type": "markdown",
   "metadata": {},
   "source": [
    "5) Crear una variable que contenga un número entero y realizar un ciclo for la misma cantidad de ciclos"
   ]
  },
  {
   "cell_type": "code",
   "execution_count": 27,
   "metadata": {},
   "outputs": [
    {
     "name": "stdout",
     "output_type": "stream",
     "text": [
      "7\n"
     ]
    }
   ],
   "source": [
    "num=7\n",
    "for i in range(0,num+1):\n",
    "    pass\n",
    "print(i)"
   ]
  },
  {
   "attachments": {},
   "cell_type": "markdown",
   "metadata": {},
   "source": [
    "6) Utilizar un ciclo while para realizar el factorial de un número guardado en una variable, sólo si la variable contiene un número entero mayor a 0"
   ]
  },
  {
   "cell_type": "code",
   "execution_count": 28,
   "metadata": {},
   "outputs": [
    {
     "name": "stdout",
     "output_type": "stream",
     "text": [
      "2\n"
     ]
    }
   ],
   "source": [
    "n=2\n",
    "\n",
    "if type(n)==int:\n",
    "    if n>0:\n",
    "        f=n\n",
    "        while n>1:\n",
    "            n-=1\n",
    "            f=f*n\n",
    "        print(f)\n",
    "    else:\n",
    "        print('La variable no es mayor a 0')\n",
    "else:\n",
    "    print('la variable no es de tipo int')"
   ]
  },
  {
   "attachments": {},
   "cell_type": "markdown",
   "metadata": {},
   "source": [
    "7) Crear un ciclo for dentro de un ciclo while"
   ]
  },
  {
   "cell_type": "code",
   "execution_count": 29,
   "metadata": {},
   "outputs": [
    {
     "name": "stdout",
     "output_type": "stream",
     "text": [
      "a\n",
      "r\n",
      "o\n",
      "1\n",
      "a\n",
      "r\n",
      "o\n",
      "2\n",
      "a\n",
      "r\n",
      "o\n",
      "3\n"
     ]
    }
   ],
   "source": [
    "n=3\n",
    "cadena='aro'\n",
    "i=0\n",
    "while i < n:\n",
    "    i+=1\n",
    "    for letra in cadena:\n",
    "        print(letra)\n",
    "    print(i)\n"
   ]
  },
  {
   "attachments": {},
   "cell_type": "markdown",
   "metadata": {},
   "source": [
    "8) Crear un ciclo while dentro de un ciclo for"
   ]
  },
  {
   "cell_type": "code",
   "execution_count": 30,
   "metadata": {},
   "outputs": [
    {
     "name": "stdout",
     "output_type": "stream",
     "text": [
      "cilo while nº 1\n",
      "cilo while nº 2\n",
      "cilo while nº 3\n",
      "     FIN CICLO FOR Nº 1\n",
      "cilo while nº 1\n",
      "cilo while nº 2\n",
      "cilo while nº 3\n",
      "     FIN CICLO FOR Nº 2\n"
     ]
    }
   ],
   "source": [
    "cw=3\n",
    "cf=2\n",
    "for i in range(0,cf):\n",
    "    w=0\n",
    "    while w<cw:\n",
    "        w+=1\n",
    "        print('cilo while nº', w)\n",
    "    print('     FIN CICLO FOR Nº',i+1)"
   ]
  },
  {
   "attachments": {},
   "cell_type": "markdown",
   "metadata": {},
   "source": [
    "9) Imprimir los números primos existentes entre 0 y 30"
   ]
  },
  {
   "cell_type": "code",
   "execution_count": 20,
   "metadata": {},
   "outputs": [
    {
     "name": "stdout",
     "output_type": "stream",
     "text": [
      "1 es primo\n",
      "2 es primo\n",
      "3 es primo\n",
      "5 es primo\n",
      "7 es primo\n",
      "11 es primo\n",
      "13 es primo\n",
      "17 es primo\n",
      "19 es primo\n",
      "23 es primo\n",
      "29 es primo\n"
     ]
    }
   ],
   "source": [
    "n_max=30\n",
    "n=1\n",
    "#primo=True\n",
    "while n<=n_max:\n",
    "    #n+=1\n",
    "    primo=True\n",
    "    #print('while con n =',n)\n",
    "    for i in range(2,n):\n",
    "        resto=n%i\n",
    "        #print(i, '-', resto)\n",
    "        if resto==0 and i<n:\n",
    "            primo=False\n",
    "    #print(primo)\n",
    "    if primo==True:\n",
    "        print(n, 'es primo')\n",
    "    n+=1"
   ]
  },
  {
   "attachments": {},
   "cell_type": "markdown",
   "metadata": {},
   "source": [
    "10) ¿Se puede mejorar el proceso del punto 9? Utilizar las sentencias break y/ó continue para tal fin"
   ]
  },
  {
   "cell_type": "code",
   "execution_count": 14,
   "metadata": {},
   "outputs": [
    {
     "name": "stdout",
     "output_type": "stream",
     "text": [
      "1 es primo\n",
      "2 es primo\n",
      "3 es primo\n",
      "5 es primo\n",
      "7 es primo\n",
      "11 es primo\n",
      "13 es primo\n",
      "17 es primo\n",
      "19 es primo\n",
      "23 es primo\n",
      "29 es primo\n"
     ]
    }
   ],
   "source": [
    "n_max=30\n",
    "n=1\n",
    "#primo=True\n",
    "while n<=n_max:\n",
    "    #n+=1\n",
    "    primo=True\n",
    "    #print('while con n =',n)\n",
    "    for i in range(2,n):\n",
    "        resto=n%i\n",
    "        #print(i, '-', resto)\n",
    "        if resto==0 and i<n:\n",
    "            primo=False\n",
    "            break\n",
    "    #print(primo)\n",
    "    if primo==True:\n",
    "        print(n, 'es primo')\n",
    "    n+=1"
   ]
  },
  {
   "attachments": {},
   "cell_type": "markdown",
   "metadata": {},
   "source": [
    "11) En los puntos 9 y 10, se diseño un código que encuentra números primos y además se lo optimizó. ¿Es posible saber en qué medida se optimizó?"
   ]
  },
  {
   "cell_type": "code",
   "execution_count": 16,
   "metadata": {},
   "outputs": [
    {
     "name": "stdout",
     "output_type": "stream",
     "text": [
      "1 es primo\n",
      "2 es primo\n",
      "3 es primo\n",
      "5 es primo\n",
      "7 es primo\n",
      "11 es primo\n",
      "13 es primo\n",
      "17 es primo\n",
      "19 es primo\n",
      "23 es primo\n",
      "29 es primo\n",
      "La cantidad de ciclos sin break es de 406\n"
     ]
    }
   ],
   "source": [
    "n_max=30\n",
    "n=1\n",
    "ciclos1=0\n",
    "while n<=n_max:\n",
    "    primo=True\n",
    "    for i in range(2,n):\n",
    "        ciclos1+=1\n",
    "        resto=n%i\n",
    "        if resto==0 and i<n:\n",
    "            primo=False\n",
    "    if primo==True:\n",
    "        print(n, 'es primo')\n",
    "    n+=1\n",
    "print('La cantidad de ciclos sin break es de',ciclos1)"
   ]
  },
  {
   "attachments": {},
   "cell_type": "markdown",
   "metadata": {},
   "source": [
    "12) Aplicando continue, armar un ciclo while que solo imprima los valores divisibles por 12, dentro del rango de números de 100 a 300"
   ]
  },
  {
   "cell_type": "code",
   "execution_count": 37,
   "metadata": {},
   "outputs": [
    {
     "name": "stdout",
     "output_type": "stream",
     "text": [
      "108\n",
      "120\n",
      "132\n",
      "144\n",
      "156\n",
      "168\n",
      "180\n",
      "192\n",
      "204\n",
      "216\n",
      "228\n",
      "240\n",
      "252\n",
      "264\n",
      "276\n",
      "288\n",
      "300\n"
     ]
    }
   ],
   "source": [
    "n_min=100\n",
    "n_max=300\n",
    "n=n_min\n",
    "while n<=n_max:\n",
    "    if n%12!=0:\n",
    "        n+=1\n",
    "        continue\n",
    "    else:\n",
    "        print(n)\n",
    "    n+=1"
   ]
  },
  {
   "attachments": {},
   "cell_type": "markdown",
   "metadata": {},
   "source": [
    "13) Utilizar la función **input()** que permite hacer ingresos por teclado, para encontrar números primos y dar la opción al usario de buscar el siguiente"
   ]
  },
  {
   "cell_type": "code",
   "execution_count": 7,
   "metadata": {},
   "outputs": [
    {
     "name": "stdout",
     "output_type": "stream",
     "text": [
      "1 es primo\n",
      "2 es primo\n",
      "3 es primo\n",
      "5 es primo\n"
     ]
    }
   ],
   "source": [
    "n=0\n",
    "while True:\n",
    "    resp=input('si o no')\n",
    "    if resp=='si':\n",
    "        n+=1\n",
    "        primo=True\n",
    "        for i in range(2,n):\n",
    "            resto=n%i\n",
    "            if resto==0 and i<n:\n",
    "                primo=False\n",
    "                break\n",
    "        if primo==True:\n",
    "            print(n, 'es primo')\n",
    "    else:\n",
    "        break"
   ]
  },
  {
   "attachments": {},
   "cell_type": "markdown",
   "metadata": {},
   "source": [
    "14) Crear un ciclo while que encuentre dentro del rango de 100 a 300 el primer número divisible por 3 y además múltiplo de 6"
   ]
  },
  {
   "cell_type": "code",
   "execution_count": 12,
   "metadata": {},
   "outputs": [
    {
     "name": "stdout",
     "output_type": "stream",
     "text": [
      "102\n"
     ]
    }
   ],
   "source": [
    "num_ini=100\n",
    "num_max=300\n",
    "while num_ini<num_max:\n",
    "    if num_ini%6==0:\n",
    "        print(num_ini)\n",
    "        break\n",
    "    else:\n",
    "        num_ini+=1"
   ]
  }
 ],
 "metadata": {
  "interpreter": {
   "hash": "c85384e4cb51c8b72350f3a8712cc8351fdc3955e32a27f9b60c6242ab125f01"
  },
  "kernelspec": {
   "display_name": "Python 3 (ipykernel)",
   "language": "python",
   "name": "python3"
  },
  "language_info": {
   "codemirror_mode": {
    "name": "ipython",
    "version": 3
   },
   "file_extension": ".py",
   "mimetype": "text/x-python",
   "name": "python",
   "nbconvert_exporter": "python",
   "pygments_lexer": "ipython3",
   "version": "3.11.5"
  }
 },
 "nbformat": 4,
 "nbformat_minor": 4
}
