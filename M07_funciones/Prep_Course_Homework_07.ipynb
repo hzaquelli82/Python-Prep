{
 "cells": [
  {
   "attachments": {},
   "cell_type": "markdown",
   "metadata": {},
   "source": [
    "## Funciones"
   ]
  },
  {
   "attachments": {},
   "cell_type": "markdown",
   "metadata": {},
   "source": [
    "1) Crear una función que reciba un número como parámetro y devuelva True si es primo y False si no lo es"
   ]
  },
  {
   "cell_type": "code",
   "execution_count": 2,
   "metadata": {},
   "outputs": [],
   "source": [
    "def es_primo(valor):\n",
    "    primo=True\n",
    "    for n in range(2,valor):\n",
    "        if valor%n!=0:\n",
    "            primo=True\n",
    "            n+=1\n",
    "        else:\n",
    "            primo=False\n",
    "            break\n",
    "    return primo"
   ]
  },
  {
   "cell_type": "code",
   "execution_count": 11,
   "metadata": {},
   "outputs": [
    {
     "data": {
      "text/plain": [
       "True"
      ]
     },
     "execution_count": 11,
     "metadata": {},
     "output_type": "execute_result"
    }
   ],
   "source": [
    "es_primo(7)"
   ]
  },
  {
   "attachments": {},
   "cell_type": "markdown",
   "metadata": {},
   "source": [
    "2) Utilizando la función del punto 1, realizar otra función que reciba de parámetro una lista de números y devuelva sólo aquellos que son primos en otra lista"
   ]
  },
  {
   "cell_type": "code",
   "execution_count": 12,
   "metadata": {},
   "outputs": [],
   "source": [
    "def extraer_primos(lista):\n",
    "    primos=[]\n",
    "    for n in lista:\n",
    "        if es_primo(n)==True:\n",
    "            primos.append(n)\n",
    "    return primos"
   ]
  },
  {
   "cell_type": "code",
   "execution_count": 13,
   "metadata": {},
   "outputs": [
    {
     "data": {
      "text/plain": [
       "[1, 2, 3, 5, 7]"
      ]
     },
     "execution_count": 13,
     "metadata": {},
     "output_type": "execute_result"
    }
   ],
   "source": [
    "extraer_primos([1,2,3,4,5,6,7,8,9])"
   ]
  },
  {
   "attachments": {},
   "cell_type": "markdown",
   "metadata": {},
   "source": [
    "3) Crear una función que al recibir una lista de números, devuelva el que más se repite y cuántas veces lo hace. Si hay más de un \"más repetido\", que devuelva cualquiera"
   ]
  },
  {
   "cell_type": "code",
   "execution_count": 34,
   "metadata": {},
   "outputs": [],
   "source": [
    "def mas_repetido(lista):\n",
    "    contador=0\n",
    "    valor=0\n",
    "    for n in lista:\n",
    "        if contador<lista.count(n):\n",
    "            contador=lista.count(n)\n",
    "            valor=n\n",
    "    return (valor, contador)"
   ]
  },
  {
   "attachments": {},
   "cell_type": "markdown",
   "metadata": {},
   "source": [
    "4) Crear una función que convierta entre grados Celsius, Farenheit y Kelvin<br>\n",
    "Fórmula 1\t: (°C × 9/5) + 32 = °F<br>\n",
    "Fórmula 2\t: °C + 273.15 = °K<br>\n",
    "Debe recibir 3 parámetros: el valor, la medida de orígen y la medida de destino\n"
   ]
  },
  {
   "cell_type": "code",
   "execution_count": 58,
   "metadata": {},
   "outputs": [],
   "source": [
    "def cambiar_unidad_temp(valor, origen, salida):\n",
    "    '''Esta funcion permite cambiar la temperatura ingresada en tipo de unidad a otro.\n",
    "    Utilizar C para celsius, F para farenhient y K para kelvin'''\n",
    "    if origen=='C' and salida=='F':\n",
    "        valor=(valor*(9/5))+32\n",
    "    elif origen=='C'and salida=='K':\n",
    "        valor=valor+273.15\n",
    "    elif origen=='F' and salida=='C':\n",
    "        valor=(valor-32)*(5/9)\n",
    "    elif origen=='K' and salida=='C':\n",
    "        valor=valor-273.15\n",
    "    elif origen=='F' and salida=='K':\n",
    "        valor=(valor-32)*(5/9)\n",
    "        valor=valor+273.15\n",
    "    elif origen=='K' and salida=='F':\n",
    "        valor=valor-273.15\n",
    "        valor=(valor*(9/5))+32\n",
    "    return valor"
   ]
  },
  {
   "cell_type": "code",
   "execution_count": 59,
   "metadata": {},
   "outputs": [
    {
     "data": {
      "text/plain": [
       "273.15"
      ]
     },
     "execution_count": 59,
     "metadata": {},
     "output_type": "execute_result"
    }
   ],
   "source": [
    "cambiar_unidad_temp(32,'F','K')"
   ]
  },
  {
   "attachments": {},
   "cell_type": "markdown",
   "metadata": {},
   "source": [
    "5) Iterando una lista con los tres valores posibles de temperatura que recibe la función del punto 5, hacer un print para cada combinación de los mismos:"
   ]
  },
  {
   "cell_type": "code",
   "execution_count": 63,
   "metadata": {},
   "outputs": [
    {
     "name": "stdout",
     "output_type": "stream",
     "text": [
      "1 grado  C  es igual a  1 C\n",
      "1 grado  C  es igual a  33.8 F\n",
      "1 grado  C  es igual a  274.15 K\n",
      "1 grado  F  es igual a  -17.22222222222222 C\n",
      "1 grado  F  es igual a  1 F\n",
      "1 grado  F  es igual a  255.92777777777775 K\n",
      "1 grado  K  es igual a  -272.15 C\n",
      "1 grado  K  es igual a  -457.86999999999995 F\n",
      "1 grado  K  es igual a  1 K\n"
     ]
    }
   ],
   "source": [
    "unidades=['C','F','K']\n",
    "for i in unidades:\n",
    "    for j in unidades:\n",
    "        print('1 grado ',i,' es igual a ',cambiar_unidad_temp(1,i,j), j)"
   ]
  },
  {
   "attachments": {},
   "cell_type": "markdown",
   "metadata": {},
   "source": [
    "6) Armar una función que devuelva el factorial de un número. Tener en cuenta que el usuario puede equivocarse y enviar de parámetro un número no entero o negativo"
   ]
  },
  {
   "cell_type": "code",
   "execution_count": 114,
   "metadata": {},
   "outputs": [],
   "source": [
    "def factorial(numero):\n",
    "    if numero<0:\n",
    "        numero='El valor ingresado es negativo'\n",
    "    elif numero==0:\n",
    "        numero=1\n",
    "    elif type(numero)!=int:\n",
    "        numero='El valor ingresado no es un entero'        \n",
    "    else:\n",
    "        numero=numero*factorial(numero-1)\n",
    "    return numero\n"
   ]
  },
  {
   "cell_type": "code",
   "execution_count": 121,
   "metadata": {},
   "outputs": [
    {
     "data": {
      "text/plain": [
       "120"
      ]
     },
     "execution_count": 121,
     "metadata": {},
     "output_type": "execute_result"
    }
   ],
   "source": [
    "factorial(5)"
   ]
  },
  {
   "cell_type": "code",
   "execution_count": 122,
   "metadata": {},
   "outputs": [
    {
     "data": {
      "text/plain": [
       "'El valor ingresado no es un entero'"
      ]
     },
     "execution_count": 122,
     "metadata": {},
     "output_type": "execute_result"
    }
   ],
   "source": [
    "factorial(5.2)"
   ]
  },
  {
   "cell_type": "code",
   "execution_count": 123,
   "metadata": {},
   "outputs": [
    {
     "data": {
      "text/plain": [
       "'El valor ingresado es negativo'"
      ]
     },
     "execution_count": 123,
     "metadata": {},
     "output_type": "execute_result"
    }
   ],
   "source": [
    "factorial(-5)"
   ]
  }
 ],
 "metadata": {
  "interpreter": {
   "hash": "c85384e4cb51c8b72350f3a8712cc8351fdc3955e32a27f9b60c6242ab125f01"
  },
  "kernelspec": {
   "display_name": "Python 3 (ipykernel)",
   "language": "python",
   "name": "python3"
  },
  "language_info": {
   "codemirror_mode": {
    "name": "ipython",
    "version": 3
   },
   "file_extension": ".py",
   "mimetype": "text/x-python",
   "name": "python",
   "nbconvert_exporter": "python",
   "pygments_lexer": "ipython3",
   "version": "3.11.6"
  }
 },
 "nbformat": 4,
 "nbformat_minor": 4
}
